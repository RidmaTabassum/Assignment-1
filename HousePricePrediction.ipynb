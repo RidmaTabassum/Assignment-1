{
  "nbformat": 4,
  "nbformat_minor": 0,
  "metadata": {
    "colab": {
      "provenance": [],
      "authorship_tag": "ABX9TyMuWnEVidsHpgn/wh5i+OiN",
      "include_colab_link": true
    },
    "kernelspec": {
      "name": "python3",
      "display_name": "Python 3"
    },
    "language_info": {
      "name": "python"
    }
  },
  "cells": [
    {
      "cell_type": "markdown",
      "metadata": {
        "id": "view-in-github",
        "colab_type": "text"
      },
      "source": [
        "<a href=\"https://colab.research.google.com/github/RidmaTabassum/Assignment-1/blob/main/HousePricePrediction.ipynb\" target=\"_parent\"><img src=\"https://colab.research.google.com/assets/colab-badge.svg\" alt=\"Open In Colab\"/></a>"
      ]
    },
    {
      "cell_type": "code",
      "execution_count": null,
      "metadata": {
        "id": "ITfcEGRBKIgu"
      },
      "outputs": [],
      "source": [
        "!pip install d2l==1.0.0-alpha1.post0"
      ]
    },
    {
      "cell_type": "code",
      "source": [
        "def download(url, folder, sha1_hash=None):\n",
        "    \"\"\"Download a file to folder and return the local filepath.\"\"\"\n",
        "\n",
        "def extract(filename, folder):\n",
        "    \"\"\"Extract a zip/tar file into folder.\"\"\""
      ],
      "metadata": {
        "id": "--UO5fGiKWHg"
      },
      "execution_count": null,
      "outputs": []
    },
    {
      "cell_type": "code",
      "source": [
        "%matplotlib inline\n",
        "import numpy as np\n",
        "import pandas as pd\n",
        "import tensorflow as tf\n",
        "from d2l import tensorflow as d2l"
      ],
      "metadata": {
        "id": "3BJydttlKcAo"
      },
      "execution_count": null,
      "outputs": []
    },
    {
      "cell_type": "code",
      "source": [
        "class KaggleHouse(d2l.DataModule):\n",
        "    def __init__(self, batch_size, train=None, val=None):\n",
        "        super().__init__()\n",
        "        self.save_hyperparameters()\n",
        "        if self.train is None:\n",
        "            self.raw_train = pd.read_csv(d2l.download(\n",
        "                d2l.DATA_URL + 'kaggle_house_pred_train.csv', self.root,\n",
        "                sha1_hash='585e9cc93e70b39160e7921475f9bcd7d31219ce'))\n",
        "            self.raw_val = pd.read_csv(d2l.download(\n",
        "                d2l.DATA_URL + 'kaggle_house_pred_test.csv', self.root,\n",
        "                sha1_hash='fa19780a7b011d9b009e8bff8e99922a8ee2eb90'))"
      ],
      "metadata": {
        "id": "YmE8aznLKhiL"
      },
      "execution_count": null,
      "outputs": []
    },
    {
      "cell_type": "code",
      "source": [
        "data = KaggleHouse(batch_size=64)\n",
        "print(data.raw_train.shape)\n",
        "print(data.raw_val.shape)"
      ],
      "metadata": {
        "colab": {
          "base_uri": "https://localhost:8080/"
        },
        "id": "fm-uPNdzMIKR",
        "outputId": "01293b0f-77ea-4f55-85bd-1818fe2938b7"
      },
      "execution_count": null,
      "outputs": [
        {
          "output_type": "stream",
          "name": "stdout",
          "text": [
            "Downloading ../data/kaggle_house_pred_train.csv from http://d2l-data.s3-accelerate.amazonaws.com/kaggle_house_pred_train.csv...\n",
            "Downloading ../data/kaggle_house_pred_test.csv from http://d2l-data.s3-accelerate.amazonaws.com/kaggle_house_pred_test.csv...\n",
            "(1460, 81)\n",
            "(1459, 80)\n"
          ]
        }
      ]
    },
    {
      "cell_type": "code",
      "source": [
        "print(data.raw_train.iloc[:4, [0, 1, 2, 3, -3, -2, -1]])"
      ],
      "metadata": {
        "colab": {
          "base_uri": "https://localhost:8080/"
        },
        "id": "X8dFZZYFLZ66",
        "outputId": "7eeb992d-1e4d-4163-a989-d5f9b215d096"
      },
      "execution_count": null,
      "outputs": [
        {
          "output_type": "stream",
          "name": "stdout",
          "text": [
            "   Id  MSSubClass MSZoning  LotFrontage SaleType SaleCondition  SalePrice\n",
            "0   1          60       RL         65.0       WD        Normal     208500\n",
            "1   2          20       RL         80.0       WD        Normal     181500\n",
            "2   3          60       RL         68.0       WD        Normal     223500\n",
            "3   4          70       RL         60.0       WD       Abnorml     140000\n"
          ]
        }
      ]
    },
    {
      "cell_type": "code",
      "source": [
        "@d2l.add_to_class(KaggleHouse)\n",
        "def preprocess(self):\n",
        "    # Remove the ID and label columns\n",
        "    label = 'SalePrice'\n",
        "    features = pd.concat(\n",
        "        (self.raw_train.drop(columns=['Id', label]),\n",
        "         self.raw_val.drop(columns=['Id'])))\n",
        "    # Standardize numerical columns\n",
        "    numeric_features = features.dtypes[features.dtypes != 'object'].index\n",
        "    features[numeric_features] = features[numeric_features].apply(\n",
        "        lambda x: (x - x.mean()) / (x.std()))\n",
        "    # Replace NAN numerical features by 0\n",
        "    features[numeric_features] = features[numeric_features].fillna(0)\n",
        "    # Replace discrete features by one-hot encoding.\n",
        "    features = pd.get_dummies(features, dummy_na=True)\n",
        "    # Save preprocessed features\n",
        "    self.train = features[:self.raw_train.shape[0]].copy()\n",
        "    self.train[label] = self.raw_train[label]\n",
        "    self.val = features[self.raw_train.shape[0]:].copy()"
      ],
      "metadata": {
        "id": "SA7qROBtK9l7"
      },
      "execution_count": null,
      "outputs": []
    },
    {
      "cell_type": "code",
      "source": [
        "data.preprocess()\n",
        "data.train.shape"
      ],
      "metadata": {
        "colab": {
          "base_uri": "https://localhost:8080/"
        },
        "id": "uKc3CjjRLIhb",
        "outputId": "cd72695b-19dc-48ba-ebfc-a035476057e0"
      },
      "execution_count": null,
      "outputs": [
        {
          "output_type": "execute_result",
          "data": {
            "text/plain": [
              "(1460, 332)"
            ]
          },
          "metadata": {},
          "execution_count": 12
        }
      ]
    },
    {
      "cell_type": "code",
      "source": [
        "@d2l.add_to_class(KaggleHouse)\n",
        "def get_dataloader(self, train):\n",
        "    label = 'SalePrice'\n",
        "    data = self.train if train else self.val\n",
        "    if label not in data: return\n",
        "    get_tensor = lambda x: tf.constant(x.values, dtype=tf.float32)\n",
        "    # Logarithm of prices\n",
        "    tensors = (get_tensor(data.drop(columns=[label])),  # X\n",
        "               tf.reshape(tf.math.log(get_tensor(data[label])), (-1, 1)))  # Y\n",
        "    return self.get_tensorloader(tensors, train)"
      ],
      "metadata": {
        "id": "xbqXpu9xMTz8"
      },
      "execution_count": null,
      "outputs": []
    },
    {
      "cell_type": "code",
      "source": [
        "def k_fold_data(data, k):\n",
        "    rets = []\n",
        "    fold_size = data.train.shape[0] // k\n",
        "    for j in range(k):\n",
        "        idx = range(j * fold_size, (j+1) * fold_size)\n",
        "        rets.append(KaggleHouse(data.batch_size, data.train.drop(index=idx),\n",
        "                                data.train.loc[idx]))\n",
        "    return rets"
      ],
      "metadata": {
        "id": "_3AMKd20MYM-"
      },
      "execution_count": null,
      "outputs": []
    },
    {
      "cell_type": "code",
      "source": [
        "def k_fold(trainer, data, k, lr):\n",
        "    val_loss, models = [], []\n",
        "    for i, data_fold in enumerate(k_fold_data(data, k)):\n",
        "        model = d2l.LinearRegression(lr)\n",
        "        model.board.yscale='log'\n",
        "        if i != 0: model.board.display = False\n",
        "        trainer.fit(model, data_fold)\n",
        "        val_loss.append(float(model.board.data['val_loss'][-1].y))\n",
        "        models.append(model)\n",
        "    print(f'average validation log mse = {sum(val_loss)/len(val_loss)}')\n",
        "    return models"
      ],
      "metadata": {
        "id": "SpKHFM1XMcJv"
      },
      "execution_count": null,
      "outputs": []
    },
    {
      "cell_type": "code",
      "source": [
        "trainer = d2l.Trainer(max_epochs=10)\n",
        "models = k_fold(trainer, data, k=5, lr=0.01)"
      ],
      "metadata": {
        "colab": {
          "base_uri": "https://localhost:8080/",
          "height": 280
        },
        "id": "0zdhnBIKMgq4",
        "outputId": "72b908a5-e4b9-4156-cace-ff5ee5a62146"
      },
      "execution_count": null,
      "outputs": [
        {
          "output_type": "stream",
          "name": "stdout",
          "text": [
            "average validation log mse = 0.17647012919187546\n"
          ]
        },
        {
          "output_type": "display_data",
          "data": {
            "text/plain": [
              "<Figure size 252x180 with 1 Axes>"
            ],
            "image/svg+xml": "<?xml version=\"1.0\" encoding=\"utf-8\" standalone=\"no\"?>\n<!DOCTYPE svg PUBLIC \"-//W3C//DTD SVG 1.1//EN\"\n  \"http://www.w3.org/Graphics/SVG/1.1/DTD/svg11.dtd\">\n<!-- Created with matplotlib (https://matplotlib.org/) -->\n<svg height=\"180.65625pt\" version=\"1.1\" viewBox=\"0 0 240.6625 180.65625\" width=\"240.6625pt\" xmlns=\"http://www.w3.org/2000/svg\" xmlns:xlink=\"http://www.w3.org/1999/xlink\">\n <defs>\n  <style type=\"text/css\">\n*{stroke-linecap:butt;stroke-linejoin:round;}\n  </style>\n </defs>\n <g id=\"figure_1\">\n  <g id=\"patch_1\">\n   <path d=\"M 0 180.65625 \nL 240.6625 180.65625 \nL 240.6625 0 \nL 0 0 \nz\n\" style=\"fill:none;\"/>\n  </g>\n  <g id=\"axes_1\">\n   <g id=\"patch_2\">\n    <path d=\"M 31.8 143.1 \nL 227.1 143.1 \nL 227.1 7.2 \nL 31.8 7.2 \nz\n\" style=\"fill:#ffffff;\"/>\n   </g>\n   <g id=\"matplotlib.axis_1\">\n    <g id=\"xtick_1\">\n     <g id=\"line2d_1\">\n      <defs>\n       <path d=\"M 0 0 \nL 0 3.5 \n\" id=\"m0947e21726\" style=\"stroke:#000000;stroke-width:0.8;\"/>\n      </defs>\n      <g>\n       <use style=\"stroke:#000000;stroke-width:0.8;\" x=\"31.8\" xlink:href=\"#m0947e21726\" y=\"143.1\"/>\n      </g>\n     </g>\n     <g id=\"text_1\">\n      <!-- 0 -->\n      <defs>\n       <path d=\"M 31.78125 66.40625 \nQ 24.171875 66.40625 20.328125 58.90625 \nQ 16.5 51.421875 16.5 36.375 \nQ 16.5 21.390625 20.328125 13.890625 \nQ 24.171875 6.390625 31.78125 6.390625 \nQ 39.453125 6.390625 43.28125 13.890625 \nQ 47.125 21.390625 47.125 36.375 \nQ 47.125 51.421875 43.28125 58.90625 \nQ 39.453125 66.40625 31.78125 66.40625 \nz\nM 31.78125 74.21875 \nQ 44.046875 74.21875 50.515625 64.515625 \nQ 56.984375 54.828125 56.984375 36.375 \nQ 56.984375 17.96875 50.515625 8.265625 \nQ 44.046875 -1.421875 31.78125 -1.421875 \nQ 19.53125 -1.421875 13.0625 8.265625 \nQ 6.59375 17.96875 6.59375 36.375 \nQ 6.59375 54.828125 13.0625 64.515625 \nQ 19.53125 74.21875 31.78125 74.21875 \nz\n\" id=\"DejaVuSans-48\"/>\n      </defs>\n      <g transform=\"translate(28.61875 157.698438)scale(0.1 -0.1)\">\n       <use xlink:href=\"#DejaVuSans-48\"/>\n      </g>\n     </g>\n    </g>\n    <g id=\"xtick_2\">\n     <g id=\"line2d_2\">\n      <g>\n       <use style=\"stroke:#000000;stroke-width:0.8;\" x=\"70.86\" xlink:href=\"#m0947e21726\" y=\"143.1\"/>\n      </g>\n     </g>\n     <g id=\"text_2\">\n      <!-- 2 -->\n      <defs>\n       <path d=\"M 19.1875 8.296875 \nL 53.609375 8.296875 \nL 53.609375 0 \nL 7.328125 0 \nL 7.328125 8.296875 \nQ 12.9375 14.109375 22.625 23.890625 \nQ 32.328125 33.6875 34.8125 36.53125 \nQ 39.546875 41.84375 41.421875 45.53125 \nQ 43.3125 49.21875 43.3125 52.78125 \nQ 43.3125 58.59375 39.234375 62.25 \nQ 35.15625 65.921875 28.609375 65.921875 \nQ 23.96875 65.921875 18.8125 64.3125 \nQ 13.671875 62.703125 7.8125 59.421875 \nL 7.8125 69.390625 \nQ 13.765625 71.78125 18.9375 73 \nQ 24.125 74.21875 28.421875 74.21875 \nQ 39.75 74.21875 46.484375 68.546875 \nQ 53.21875 62.890625 53.21875 53.421875 \nQ 53.21875 48.921875 51.53125 44.890625 \nQ 49.859375 40.875 45.40625 35.40625 \nQ 44.1875 33.984375 37.640625 27.21875 \nQ 31.109375 20.453125 19.1875 8.296875 \nz\n\" id=\"DejaVuSans-50\"/>\n      </defs>\n      <g transform=\"translate(67.67875 157.698438)scale(0.1 -0.1)\">\n       <use xlink:href=\"#DejaVuSans-50\"/>\n      </g>\n     </g>\n    </g>\n    <g id=\"xtick_3\">\n     <g id=\"line2d_3\">\n      <g>\n       <use style=\"stroke:#000000;stroke-width:0.8;\" x=\"109.92\" xlink:href=\"#m0947e21726\" y=\"143.1\"/>\n      </g>\n     </g>\n     <g id=\"text_3\">\n      <!-- 4 -->\n      <defs>\n       <path d=\"M 37.796875 64.3125 \nL 12.890625 25.390625 \nL 37.796875 25.390625 \nz\nM 35.203125 72.90625 \nL 47.609375 72.90625 \nL 47.609375 25.390625 \nL 58.015625 25.390625 \nL 58.015625 17.1875 \nL 47.609375 17.1875 \nL 47.609375 0 \nL 37.796875 0 \nL 37.796875 17.1875 \nL 4.890625 17.1875 \nL 4.890625 26.703125 \nz\n\" id=\"DejaVuSans-52\"/>\n      </defs>\n      <g transform=\"translate(106.73875 157.698438)scale(0.1 -0.1)\">\n       <use xlink:href=\"#DejaVuSans-52\"/>\n      </g>\n     </g>\n    </g>\n    <g id=\"xtick_4\">\n     <g id=\"line2d_4\">\n      <g>\n       <use style=\"stroke:#000000;stroke-width:0.8;\" x=\"148.98\" xlink:href=\"#m0947e21726\" y=\"143.1\"/>\n      </g>\n     </g>\n     <g id=\"text_4\">\n      <!-- 6 -->\n      <defs>\n       <path d=\"M 33.015625 40.375 \nQ 26.375 40.375 22.484375 35.828125 \nQ 18.609375 31.296875 18.609375 23.390625 \nQ 18.609375 15.53125 22.484375 10.953125 \nQ 26.375 6.390625 33.015625 6.390625 \nQ 39.65625 6.390625 43.53125 10.953125 \nQ 47.40625 15.53125 47.40625 23.390625 \nQ 47.40625 31.296875 43.53125 35.828125 \nQ 39.65625 40.375 33.015625 40.375 \nz\nM 52.59375 71.296875 \nL 52.59375 62.3125 \nQ 48.875 64.0625 45.09375 64.984375 \nQ 41.3125 65.921875 37.59375 65.921875 \nQ 27.828125 65.921875 22.671875 59.328125 \nQ 17.53125 52.734375 16.796875 39.40625 \nQ 19.671875 43.65625 24.015625 45.921875 \nQ 28.375 48.1875 33.59375 48.1875 \nQ 44.578125 48.1875 50.953125 41.515625 \nQ 57.328125 34.859375 57.328125 23.390625 \nQ 57.328125 12.15625 50.6875 5.359375 \nQ 44.046875 -1.421875 33.015625 -1.421875 \nQ 20.359375 -1.421875 13.671875 8.265625 \nQ 6.984375 17.96875 6.984375 36.375 \nQ 6.984375 53.65625 15.1875 63.9375 \nQ 23.390625 74.21875 37.203125 74.21875 \nQ 40.921875 74.21875 44.703125 73.484375 \nQ 48.484375 72.75 52.59375 71.296875 \nz\n\" id=\"DejaVuSans-54\"/>\n      </defs>\n      <g transform=\"translate(145.79875 157.698438)scale(0.1 -0.1)\">\n       <use xlink:href=\"#DejaVuSans-54\"/>\n      </g>\n     </g>\n    </g>\n    <g id=\"xtick_5\">\n     <g id=\"line2d_5\">\n      <g>\n       <use style=\"stroke:#000000;stroke-width:0.8;\" x=\"188.04\" xlink:href=\"#m0947e21726\" y=\"143.1\"/>\n      </g>\n     </g>\n     <g id=\"text_5\">\n      <!-- 8 -->\n      <defs>\n       <path d=\"M 31.78125 34.625 \nQ 24.75 34.625 20.71875 30.859375 \nQ 16.703125 27.09375 16.703125 20.515625 \nQ 16.703125 13.921875 20.71875 10.15625 \nQ 24.75 6.390625 31.78125 6.390625 \nQ 38.8125 6.390625 42.859375 10.171875 \nQ 46.921875 13.96875 46.921875 20.515625 \nQ 46.921875 27.09375 42.890625 30.859375 \nQ 38.875 34.625 31.78125 34.625 \nz\nM 21.921875 38.8125 \nQ 15.578125 40.375 12.03125 44.71875 \nQ 8.5 49.078125 8.5 55.328125 \nQ 8.5 64.0625 14.71875 69.140625 \nQ 20.953125 74.21875 31.78125 74.21875 \nQ 42.671875 74.21875 48.875 69.140625 \nQ 55.078125 64.0625 55.078125 55.328125 \nQ 55.078125 49.078125 51.53125 44.71875 \nQ 48 40.375 41.703125 38.8125 \nQ 48.828125 37.15625 52.796875 32.3125 \nQ 56.78125 27.484375 56.78125 20.515625 \nQ 56.78125 9.90625 50.3125 4.234375 \nQ 43.84375 -1.421875 31.78125 -1.421875 \nQ 19.734375 -1.421875 13.25 4.234375 \nQ 6.78125 9.90625 6.78125 20.515625 \nQ 6.78125 27.484375 10.78125 32.3125 \nQ 14.796875 37.15625 21.921875 38.8125 \nz\nM 18.3125 54.390625 \nQ 18.3125 48.734375 21.84375 45.5625 \nQ 25.390625 42.390625 31.78125 42.390625 \nQ 38.140625 42.390625 41.71875 45.5625 \nQ 45.3125 48.734375 45.3125 54.390625 \nQ 45.3125 60.0625 41.71875 63.234375 \nQ 38.140625 66.40625 31.78125 66.40625 \nQ 25.390625 66.40625 21.84375 63.234375 \nQ 18.3125 60.0625 18.3125 54.390625 \nz\n\" id=\"DejaVuSans-56\"/>\n      </defs>\n      <g transform=\"translate(184.85875 157.698438)scale(0.1 -0.1)\">\n       <use xlink:href=\"#DejaVuSans-56\"/>\n      </g>\n     </g>\n    </g>\n    <g id=\"xtick_6\">\n     <g id=\"line2d_6\">\n      <g>\n       <use style=\"stroke:#000000;stroke-width:0.8;\" x=\"227.1\" xlink:href=\"#m0947e21726\" y=\"143.1\"/>\n      </g>\n     </g>\n     <g id=\"text_6\">\n      <!-- 10 -->\n      <defs>\n       <path d=\"M 12.40625 8.296875 \nL 28.515625 8.296875 \nL 28.515625 63.921875 \nL 10.984375 60.40625 \nL 10.984375 69.390625 \nL 28.421875 72.90625 \nL 38.28125 72.90625 \nL 38.28125 8.296875 \nL 54.390625 8.296875 \nL 54.390625 0 \nL 12.40625 0 \nz\n\" id=\"DejaVuSans-49\"/>\n      </defs>\n      <g transform=\"translate(220.7375 157.698438)scale(0.1 -0.1)\">\n       <use xlink:href=\"#DejaVuSans-49\"/>\n       <use x=\"63.623047\" xlink:href=\"#DejaVuSans-48\"/>\n      </g>\n     </g>\n    </g>\n    <g id=\"text_7\">\n     <!-- epoch -->\n     <defs>\n      <path d=\"M 56.203125 29.59375 \nL 56.203125 25.203125 \nL 14.890625 25.203125 \nQ 15.484375 15.921875 20.484375 11.0625 \nQ 25.484375 6.203125 34.421875 6.203125 \nQ 39.59375 6.203125 44.453125 7.46875 \nQ 49.3125 8.734375 54.109375 11.28125 \nL 54.109375 2.78125 \nQ 49.265625 0.734375 44.1875 -0.34375 \nQ 39.109375 -1.421875 33.890625 -1.421875 \nQ 20.796875 -1.421875 13.15625 6.1875 \nQ 5.515625 13.8125 5.515625 26.8125 \nQ 5.515625 40.234375 12.765625 48.109375 \nQ 20.015625 56 32.328125 56 \nQ 43.359375 56 49.78125 48.890625 \nQ 56.203125 41.796875 56.203125 29.59375 \nz\nM 47.21875 32.234375 \nQ 47.125 39.59375 43.09375 43.984375 \nQ 39.0625 48.390625 32.421875 48.390625 \nQ 24.90625 48.390625 20.390625 44.140625 \nQ 15.875 39.890625 15.1875 32.171875 \nz\n\" id=\"DejaVuSans-101\"/>\n      <path d=\"M 18.109375 8.203125 \nL 18.109375 -20.796875 \nL 9.078125 -20.796875 \nL 9.078125 54.6875 \nL 18.109375 54.6875 \nL 18.109375 46.390625 \nQ 20.953125 51.265625 25.265625 53.625 \nQ 29.59375 56 35.59375 56 \nQ 45.5625 56 51.78125 48.09375 \nQ 58.015625 40.1875 58.015625 27.296875 \nQ 58.015625 14.40625 51.78125 6.484375 \nQ 45.5625 -1.421875 35.59375 -1.421875 \nQ 29.59375 -1.421875 25.265625 0.953125 \nQ 20.953125 3.328125 18.109375 8.203125 \nz\nM 48.6875 27.296875 \nQ 48.6875 37.203125 44.609375 42.84375 \nQ 40.53125 48.484375 33.40625 48.484375 \nQ 26.265625 48.484375 22.1875 42.84375 \nQ 18.109375 37.203125 18.109375 27.296875 \nQ 18.109375 17.390625 22.1875 11.75 \nQ 26.265625 6.109375 33.40625 6.109375 \nQ 40.53125 6.109375 44.609375 11.75 \nQ 48.6875 17.390625 48.6875 27.296875 \nz\n\" id=\"DejaVuSans-112\"/>\n      <path d=\"M 30.609375 48.390625 \nQ 23.390625 48.390625 19.1875 42.75 \nQ 14.984375 37.109375 14.984375 27.296875 \nQ 14.984375 17.484375 19.15625 11.84375 \nQ 23.34375 6.203125 30.609375 6.203125 \nQ 37.796875 6.203125 41.984375 11.859375 \nQ 46.1875 17.53125 46.1875 27.296875 \nQ 46.1875 37.015625 41.984375 42.703125 \nQ 37.796875 48.390625 30.609375 48.390625 \nz\nM 30.609375 56 \nQ 42.328125 56 49.015625 48.375 \nQ 55.71875 40.765625 55.71875 27.296875 \nQ 55.71875 13.875 49.015625 6.21875 \nQ 42.328125 -1.421875 30.609375 -1.421875 \nQ 18.84375 -1.421875 12.171875 6.21875 \nQ 5.515625 13.875 5.515625 27.296875 \nQ 5.515625 40.765625 12.171875 48.375 \nQ 18.84375 56 30.609375 56 \nz\n\" id=\"DejaVuSans-111\"/>\n      <path d=\"M 48.78125 52.59375 \nL 48.78125 44.1875 \nQ 44.96875 46.296875 41.140625 47.34375 \nQ 37.3125 48.390625 33.40625 48.390625 \nQ 24.65625 48.390625 19.8125 42.84375 \nQ 14.984375 37.3125 14.984375 27.296875 \nQ 14.984375 17.28125 19.8125 11.734375 \nQ 24.65625 6.203125 33.40625 6.203125 \nQ 37.3125 6.203125 41.140625 7.25 \nQ 44.96875 8.296875 48.78125 10.40625 \nL 48.78125 2.09375 \nQ 45.015625 0.34375 40.984375 -0.53125 \nQ 36.96875 -1.421875 32.421875 -1.421875 \nQ 20.0625 -1.421875 12.78125 6.34375 \nQ 5.515625 14.109375 5.515625 27.296875 \nQ 5.515625 40.671875 12.859375 48.328125 \nQ 20.21875 56 33.015625 56 \nQ 37.15625 56 41.109375 55.140625 \nQ 45.0625 54.296875 48.78125 52.59375 \nz\n\" id=\"DejaVuSans-99\"/>\n      <path d=\"M 54.890625 33.015625 \nL 54.890625 0 \nL 45.90625 0 \nL 45.90625 32.71875 \nQ 45.90625 40.484375 42.875 44.328125 \nQ 39.84375 48.1875 33.796875 48.1875 \nQ 26.515625 48.1875 22.3125 43.546875 \nQ 18.109375 38.921875 18.109375 30.90625 \nL 18.109375 0 \nL 9.078125 0 \nL 9.078125 75.984375 \nL 18.109375 75.984375 \nL 18.109375 46.1875 \nQ 21.34375 51.125 25.703125 53.5625 \nQ 30.078125 56 35.796875 56 \nQ 45.21875 56 50.046875 50.171875 \nQ 54.890625 44.34375 54.890625 33.015625 \nz\n\" id=\"DejaVuSans-104\"/>\n     </defs>\n     <g transform=\"translate(114.221875 171.376563)scale(0.1 -0.1)\">\n      <use xlink:href=\"#DejaVuSans-101\"/>\n      <use x=\"61.523438\" xlink:href=\"#DejaVuSans-112\"/>\n      <use x=\"125\" xlink:href=\"#DejaVuSans-111\"/>\n      <use x=\"186.181641\" xlink:href=\"#DejaVuSans-99\"/>\n      <use x=\"241.162109\" xlink:href=\"#DejaVuSans-104\"/>\n     </g>\n    </g>\n   </g>\n   <g id=\"matplotlib.axis_2\">\n    <g id=\"ytick_1\">\n     <g id=\"line2d_7\">\n      <defs>\n       <path d=\"M 0 0 \nL -3.5 0 \n\" id=\"me45aee5707\" style=\"stroke:#000000;stroke-width:0.8;\"/>\n      </defs>\n      <g>\n       <use style=\"stroke:#000000;stroke-width:0.8;\" x=\"31.8\" xlink:href=\"#me45aee5707\" y=\"89.261043\"/>\n      </g>\n     </g>\n     <g id=\"text_8\">\n      <!-- $\\mathdefault{10^{0}}$ -->\n      <g transform=\"translate(7.2 93.060262)scale(0.1 -0.1)\">\n       <use transform=\"translate(0 0.765625)\" xlink:href=\"#DejaVuSans-49\"/>\n       <use transform=\"translate(63.623047 0.765625)\" xlink:href=\"#DejaVuSans-48\"/>\n       <use transform=\"translate(128.203125 39.046875)scale(0.7)\" xlink:href=\"#DejaVuSans-48\"/>\n      </g>\n     </g>\n    </g>\n    <g id=\"ytick_2\">\n     <g id=\"line2d_8\">\n      <g>\n       <use style=\"stroke:#000000;stroke-width:0.8;\" x=\"31.8\" xlink:href=\"#me45aee5707\" y=\"31.30638\"/>\n      </g>\n     </g>\n     <g id=\"text_9\">\n      <!-- $\\mathdefault{10^{1}}$ -->\n      <g transform=\"translate(7.2 35.105599)scale(0.1 -0.1)\">\n       <use transform=\"translate(0 0.684375)\" xlink:href=\"#DejaVuSans-49\"/>\n       <use transform=\"translate(63.623047 0.684375)\" xlink:href=\"#DejaVuSans-48\"/>\n       <use transform=\"translate(128.203125 38.965625)scale(0.7)\" xlink:href=\"#DejaVuSans-49\"/>\n      </g>\n     </g>\n    </g>\n    <g id=\"ytick_3\">\n     <g id=\"line2d_9\">\n      <defs>\n       <path d=\"M 0 0 \nL -2 0 \n\" id=\"ma1d7bbc4fc\" style=\"stroke:#000000;stroke-width:0.6;\"/>\n      </defs>\n      <g>\n       <use style=\"stroke:#000000;stroke-width:0.6;\" x=\"31.8\" xlink:href=\"#ma1d7bbc4fc\" y=\"129.769614\"/>\n      </g>\n     </g>\n    </g>\n    <g id=\"ytick_4\">\n     <g id=\"line2d_10\">\n      <g>\n       <use style=\"stroke:#000000;stroke-width:0.6;\" x=\"31.8\" xlink:href=\"#ma1d7bbc4fc\" y=\"119.564304\"/>\n      </g>\n     </g>\n    </g>\n    <g id=\"ytick_5\">\n     <g id=\"line2d_11\">\n      <g>\n       <use style=\"stroke:#000000;stroke-width:0.6;\" x=\"31.8\" xlink:href=\"#ma1d7bbc4fc\" y=\"112.323522\"/>\n      </g>\n     </g>\n    </g>\n    <g id=\"ytick_6\">\n     <g id=\"line2d_12\">\n      <g>\n       <use style=\"stroke:#000000;stroke-width:0.6;\" x=\"31.8\" xlink:href=\"#ma1d7bbc4fc\" y=\"106.707135\"/>\n      </g>\n     </g>\n    </g>\n    <g id=\"ytick_7\">\n     <g id=\"line2d_13\">\n      <g>\n       <use style=\"stroke:#000000;stroke-width:0.6;\" x=\"31.8\" xlink:href=\"#ma1d7bbc4fc\" y=\"102.118212\"/>\n      </g>\n     </g>\n    </g>\n    <g id=\"ytick_8\">\n     <g id=\"line2d_14\">\n      <g>\n       <use style=\"stroke:#000000;stroke-width:0.6;\" x=\"31.8\" xlink:href=\"#ma1d7bbc4fc\" y=\"98.238334\"/>\n      </g>\n     </g>\n    </g>\n    <g id=\"ytick_9\">\n     <g id=\"line2d_15\">\n      <g>\n       <use style=\"stroke:#000000;stroke-width:0.6;\" x=\"31.8\" xlink:href=\"#ma1d7bbc4fc\" y=\"94.87743\"/>\n      </g>\n     </g>\n    </g>\n    <g id=\"ytick_10\">\n     <g id=\"line2d_16\">\n      <g>\n       <use style=\"stroke:#000000;stroke-width:0.6;\" x=\"31.8\" xlink:href=\"#ma1d7bbc4fc\" y=\"91.912903\"/>\n      </g>\n     </g>\n    </g>\n    <g id=\"ytick_11\">\n     <g id=\"line2d_17\">\n      <g>\n       <use style=\"stroke:#000000;stroke-width:0.6;\" x=\"31.8\" xlink:href=\"#ma1d7bbc4fc\" y=\"71.814951\"/>\n      </g>\n     </g>\n    </g>\n    <g id=\"ytick_12\">\n     <g id=\"line2d_18\">\n      <g>\n       <use style=\"stroke:#000000;stroke-width:0.6;\" x=\"31.8\" xlink:href=\"#ma1d7bbc4fc\" y=\"61.609641\"/>\n      </g>\n     </g>\n    </g>\n    <g id=\"ytick_13\">\n     <g id=\"line2d_19\">\n      <g>\n       <use style=\"stroke:#000000;stroke-width:0.6;\" x=\"31.8\" xlink:href=\"#ma1d7bbc4fc\" y=\"54.368859\"/>\n      </g>\n     </g>\n    </g>\n    <g id=\"ytick_14\">\n     <g id=\"line2d_20\">\n      <g>\n       <use style=\"stroke:#000000;stroke-width:0.6;\" x=\"31.8\" xlink:href=\"#ma1d7bbc4fc\" y=\"48.752472\"/>\n      </g>\n     </g>\n    </g>\n    <g id=\"ytick_15\">\n     <g id=\"line2d_21\">\n      <g>\n       <use style=\"stroke:#000000;stroke-width:0.6;\" x=\"31.8\" xlink:href=\"#ma1d7bbc4fc\" y=\"44.16355\"/>\n      </g>\n     </g>\n    </g>\n    <g id=\"ytick_16\">\n     <g id=\"line2d_22\">\n      <g>\n       <use style=\"stroke:#000000;stroke-width:0.6;\" x=\"31.8\" xlink:href=\"#ma1d7bbc4fc\" y=\"40.283671\"/>\n      </g>\n     </g>\n    </g>\n    <g id=\"ytick_17\">\n     <g id=\"line2d_23\">\n      <g>\n       <use style=\"stroke:#000000;stroke-width:0.6;\" x=\"31.8\" xlink:href=\"#ma1d7bbc4fc\" y=\"36.922767\"/>\n      </g>\n     </g>\n    </g>\n    <g id=\"ytick_18\">\n     <g id=\"line2d_24\">\n      <g>\n       <use style=\"stroke:#000000;stroke-width:0.6;\" x=\"31.8\" xlink:href=\"#ma1d7bbc4fc\" y=\"33.95824\"/>\n      </g>\n     </g>\n    </g>\n    <g id=\"ytick_19\">\n     <g id=\"line2d_25\">\n      <g>\n       <use style=\"stroke:#000000;stroke-width:0.6;\" x=\"31.8\" xlink:href=\"#ma1d7bbc4fc\" y=\"13.860288\"/>\n      </g>\n     </g>\n    </g>\n   </g>\n   <g id=\"line2d_26\">\n    <path clip-path=\"url(#p0dd1cec4c2)\" d=\"M 35.911579 13.377273 \n\" style=\"fill:none;stroke:#1f77b4;stroke-linecap:square;stroke-width:1.5;\"/>\n   </g>\n   <g id=\"line2d_27\">\n    <path clip-path=\"url(#p0dd1cec4c2)\" d=\"M 35.911579 13.377273 \nL 45.162632 105.78945 \n\" style=\"fill:none;stroke:#1f77b4;stroke-linecap:square;stroke-width:1.5;\"/>\n   </g>\n   <g id=\"line2d_28\">\n    <path clip-path=\"url(#p0dd1cec4c2)\" d=\"M 35.911579 13.377273 \nL 45.162632 105.78945 \n\" style=\"fill:none;stroke:#1f77b4;stroke-linecap:square;stroke-width:1.5;\"/>\n   </g>\n   <g id=\"line2d_29\">\n    <path clip-path=\"url(#p0dd1cec4c2)\" d=\"M 51.33 107.539095 \n\" style=\"fill:none;stroke:#ff7f0e;stroke-dasharray:5.55,2.4;stroke-dashoffset:0;stroke-width:1.5;\"/>\n   </g>\n   <g id=\"line2d_30\">\n    <path clip-path=\"url(#p0dd1cec4c2)\" d=\"M 35.911579 13.377273 \nL 45.162632 105.78945 \nL 54.413684 107.28721 \n\" style=\"fill:none;stroke:#1f77b4;stroke-linecap:square;stroke-width:1.5;\"/>\n   </g>\n   <g id=\"line2d_31\">\n    <path clip-path=\"url(#p0dd1cec4c2)\" d=\"M 51.33 107.539095 \n\" style=\"fill:none;stroke:#ff7f0e;stroke-dasharray:5.55,2.4;stroke-dashoffset:0;stroke-width:1.5;\"/>\n   </g>\n   <g id=\"line2d_32\">\n    <path clip-path=\"url(#p0dd1cec4c2)\" d=\"M 35.911579 13.377273 \nL 45.162632 105.78945 \nL 54.413684 107.28721 \nL 63.664737 112.343557 \n\" style=\"fill:none;stroke:#1f77b4;stroke-linecap:square;stroke-width:1.5;\"/>\n   </g>\n   <g id=\"line2d_33\">\n    <path clip-path=\"url(#p0dd1cec4c2)\" d=\"M 51.33 107.539095 \n\" style=\"fill:none;stroke:#ff7f0e;stroke-dasharray:5.55,2.4;stroke-dashoffset:0;stroke-width:1.5;\"/>\n   </g>\n   <g id=\"line2d_34\">\n    <path clip-path=\"url(#p0dd1cec4c2)\" d=\"M 35.911579 13.377273 \nL 45.162632 105.78945 \nL 54.413684 107.28721 \nL 63.664737 112.343557 \n\" style=\"fill:none;stroke:#1f77b4;stroke-linecap:square;stroke-width:1.5;\"/>\n   </g>\n   <g id=\"line2d_35\">\n    <path clip-path=\"url(#p0dd1cec4c2)\" d=\"M 51.33 107.539095 \nL 70.86 115.121742 \n\" style=\"fill:none;stroke:#ff7f0e;stroke-dasharray:5.55,2.4;stroke-dashoffset:0;stroke-width:1.5;\"/>\n   </g>\n   <g id=\"line2d_36\">\n    <path clip-path=\"url(#p0dd1cec4c2)\" d=\"M 35.911579 13.377273 \nL 45.162632 105.78945 \nL 54.413684 107.28721 \nL 63.664737 112.343557 \nL 72.915789 118.482151 \n\" style=\"fill:none;stroke:#1f77b4;stroke-linecap:square;stroke-width:1.5;\"/>\n   </g>\n   <g id=\"line2d_37\">\n    <path clip-path=\"url(#p0dd1cec4c2)\" d=\"M 51.33 107.539095 \nL 70.86 115.121742 \n\" style=\"fill:none;stroke:#ff7f0e;stroke-dasharray:5.55,2.4;stroke-dashoffset:0;stroke-width:1.5;\"/>\n   </g>\n   <g id=\"line2d_38\">\n    <path clip-path=\"url(#p0dd1cec4c2)\" d=\"M 35.911579 13.377273 \nL 45.162632 105.78945 \nL 54.413684 107.28721 \nL 63.664737 112.343557 \nL 72.915789 118.482151 \nL 82.166842 115.532951 \n\" style=\"fill:none;stroke:#1f77b4;stroke-linecap:square;stroke-width:1.5;\"/>\n   </g>\n   <g id=\"line2d_39\">\n    <path clip-path=\"url(#p0dd1cec4c2)\" d=\"M 51.33 107.539095 \nL 70.86 115.121742 \n\" style=\"fill:none;stroke:#ff7f0e;stroke-dasharray:5.55,2.4;stroke-dashoffset:0;stroke-width:1.5;\"/>\n   </g>\n   <g id=\"line2d_40\">\n    <path clip-path=\"url(#p0dd1cec4c2)\" d=\"M 35.911579 13.377273 \nL 45.162632 105.78945 \nL 54.413684 107.28721 \nL 63.664737 112.343557 \nL 72.915789 118.482151 \nL 82.166842 115.532951 \n\" style=\"fill:none;stroke:#1f77b4;stroke-linecap:square;stroke-width:1.5;\"/>\n   </g>\n   <g id=\"line2d_41\">\n    <path clip-path=\"url(#p0dd1cec4c2)\" d=\"M 51.33 107.539095 \nL 70.86 115.121742 \nL 90.39 120.086216 \n\" style=\"fill:none;stroke:#ff7f0e;stroke-dasharray:5.55,2.4;stroke-dashoffset:0;stroke-width:1.5;\"/>\n   </g>\n   <g id=\"line2d_42\">\n    <path clip-path=\"url(#p0dd1cec4c2)\" d=\"M 35.911579 13.377273 \nL 45.162632 105.78945 \nL 54.413684 107.28721 \nL 63.664737 112.343557 \nL 72.915789 118.482151 \nL 82.166842 115.532951 \nL 91.417895 118.938597 \n\" style=\"fill:none;stroke:#1f77b4;stroke-linecap:square;stroke-width:1.5;\"/>\n   </g>\n   <g id=\"line2d_43\">\n    <path clip-path=\"url(#p0dd1cec4c2)\" d=\"M 51.33 107.539095 \nL 70.86 115.121742 \nL 90.39 120.086216 \n\" style=\"fill:none;stroke:#ff7f0e;stroke-dasharray:5.55,2.4;stroke-dashoffset:0;stroke-width:1.5;\"/>\n   </g>\n   <g id=\"line2d_44\">\n    <path clip-path=\"url(#p0dd1cec4c2)\" d=\"M 35.911579 13.377273 \nL 45.162632 105.78945 \nL 54.413684 107.28721 \nL 63.664737 112.343557 \nL 72.915789 118.482151 \nL 82.166842 115.532951 \nL 91.417895 118.938597 \nL 100.668947 125.121023 \n\" style=\"fill:none;stroke:#1f77b4;stroke-linecap:square;stroke-width:1.5;\"/>\n   </g>\n   <g id=\"line2d_45\">\n    <path clip-path=\"url(#p0dd1cec4c2)\" d=\"M 51.33 107.539095 \nL 70.86 115.121742 \nL 90.39 120.086216 \n\" style=\"fill:none;stroke:#ff7f0e;stroke-dasharray:5.55,2.4;stroke-dashoffset:0;stroke-width:1.5;\"/>\n   </g>\n   <g id=\"line2d_46\">\n    <path clip-path=\"url(#p0dd1cec4c2)\" d=\"M 35.911579 13.377273 \nL 45.162632 105.78945 \nL 54.413684 107.28721 \nL 63.664737 112.343557 \nL 72.915789 118.482151 \nL 82.166842 115.532951 \nL 91.417895 118.938597 \nL 100.668947 125.121023 \n\" style=\"fill:none;stroke:#1f77b4;stroke-linecap:square;stroke-width:1.5;\"/>\n   </g>\n   <g id=\"line2d_47\">\n    <path clip-path=\"url(#p0dd1cec4c2)\" d=\"M 51.33 107.539095 \nL 70.86 115.121742 \nL 90.39 120.086216 \nL 109.92 123.793215 \n\" style=\"fill:none;stroke:#ff7f0e;stroke-dasharray:5.55,2.4;stroke-dashoffset:0;stroke-width:1.5;\"/>\n   </g>\n   <g id=\"line2d_48\">\n    <path clip-path=\"url(#p0dd1cec4c2)\" d=\"M 35.911579 13.377273 \nL 45.162632 105.78945 \nL 54.413684 107.28721 \nL 63.664737 112.343557 \nL 72.915789 118.482151 \nL 82.166842 115.532951 \nL 91.417895 118.938597 \nL 100.668947 125.121023 \nL 109.92 124.159269 \n\" style=\"fill:none;stroke:#1f77b4;stroke-linecap:square;stroke-width:1.5;\"/>\n   </g>\n   <g id=\"line2d_49\">\n    <path clip-path=\"url(#p0dd1cec4c2)\" d=\"M 51.33 107.539095 \nL 70.86 115.121742 \nL 90.39 120.086216 \nL 109.92 123.793215 \n\" style=\"fill:none;stroke:#ff7f0e;stroke-dasharray:5.55,2.4;stroke-dashoffset:0;stroke-width:1.5;\"/>\n   </g>\n   <g id=\"line2d_50\">\n    <path clip-path=\"url(#p0dd1cec4c2)\" d=\"M 35.911579 13.377273 \nL 45.162632 105.78945 \nL 54.413684 107.28721 \nL 63.664737 112.343557 \nL 72.915789 118.482151 \nL 82.166842 115.532951 \nL 91.417895 118.938597 \nL 100.668947 125.121023 \nL 109.92 124.159269 \nL 119.171053 122.712266 \n\" style=\"fill:none;stroke:#1f77b4;stroke-linecap:square;stroke-width:1.5;\"/>\n   </g>\n   <g id=\"line2d_51\">\n    <path clip-path=\"url(#p0dd1cec4c2)\" d=\"M 51.33 107.539095 \nL 70.86 115.121742 \nL 90.39 120.086216 \nL 109.92 123.793215 \n\" style=\"fill:none;stroke:#ff7f0e;stroke-dasharray:5.55,2.4;stroke-dashoffset:0;stroke-width:1.5;\"/>\n   </g>\n   <g id=\"line2d_52\">\n    <path clip-path=\"url(#p0dd1cec4c2)\" d=\"M 35.911579 13.377273 \nL 45.162632 105.78945 \nL 54.413684 107.28721 \nL 63.664737 112.343557 \nL 72.915789 118.482151 \nL 82.166842 115.532951 \nL 91.417895 118.938597 \nL 100.668947 125.121023 \nL 109.92 124.159269 \nL 119.171053 122.712266 \n\" style=\"fill:none;stroke:#1f77b4;stroke-linecap:square;stroke-width:1.5;\"/>\n   </g>\n   <g id=\"line2d_53\">\n    <path clip-path=\"url(#p0dd1cec4c2)\" d=\"M 51.33 107.539095 \nL 70.86 115.121742 \nL 90.39 120.086216 \nL 109.92 123.793215 \nL 129.45 127.138635 \n\" style=\"fill:none;stroke:#ff7f0e;stroke-dasharray:5.55,2.4;stroke-dashoffset:0;stroke-width:1.5;\"/>\n   </g>\n   <g id=\"line2d_54\">\n    <path clip-path=\"url(#p0dd1cec4c2)\" d=\"M 35.911579 13.377273 \nL 45.162632 105.78945 \nL 54.413684 107.28721 \nL 63.664737 112.343557 \nL 72.915789 118.482151 \nL 82.166842 115.532951 \nL 91.417895 118.938597 \nL 100.668947 125.121023 \nL 109.92 124.159269 \nL 119.171053 122.712266 \nL 128.422105 125.270338 \n\" style=\"fill:none;stroke:#1f77b4;stroke-linecap:square;stroke-width:1.5;\"/>\n   </g>\n   <g id=\"line2d_55\">\n    <path clip-path=\"url(#p0dd1cec4c2)\" d=\"M 51.33 107.539095 \nL 70.86 115.121742 \nL 90.39 120.086216 \nL 109.92 123.793215 \nL 129.45 127.138635 \n\" style=\"fill:none;stroke:#ff7f0e;stroke-dasharray:5.55,2.4;stroke-dashoffset:0;stroke-width:1.5;\"/>\n   </g>\n   <g id=\"line2d_56\">\n    <path clip-path=\"url(#p0dd1cec4c2)\" d=\"M 35.911579 13.377273 \nL 45.162632 105.78945 \nL 54.413684 107.28721 \nL 63.664737 112.343557 \nL 72.915789 118.482151 \nL 82.166842 115.532951 \nL 91.417895 118.938597 \nL 100.668947 125.121023 \nL 109.92 124.159269 \nL 119.171053 122.712266 \nL 128.422105 125.270338 \nL 137.673158 129.033929 \n\" style=\"fill:none;stroke:#1f77b4;stroke-linecap:square;stroke-width:1.5;\"/>\n   </g>\n   <g id=\"line2d_57\">\n    <path clip-path=\"url(#p0dd1cec4c2)\" d=\"M 51.33 107.539095 \nL 70.86 115.121742 \nL 90.39 120.086216 \nL 109.92 123.793215 \nL 129.45 127.138635 \n\" style=\"fill:none;stroke:#ff7f0e;stroke-dasharray:5.55,2.4;stroke-dashoffset:0;stroke-width:1.5;\"/>\n   </g>\n   <g id=\"line2d_58\">\n    <path clip-path=\"url(#p0dd1cec4c2)\" d=\"M 35.911579 13.377273 \nL 45.162632 105.78945 \nL 54.413684 107.28721 \nL 63.664737 112.343557 \nL 72.915789 118.482151 \nL 82.166842 115.532951 \nL 91.417895 118.938597 \nL 100.668947 125.121023 \nL 109.92 124.159269 \nL 119.171053 122.712266 \nL 128.422105 125.270338 \nL 137.673158 129.033929 \n\" style=\"fill:none;stroke:#1f77b4;stroke-linecap:square;stroke-width:1.5;\"/>\n   </g>\n   <g id=\"line2d_59\">\n    <path clip-path=\"url(#p0dd1cec4c2)\" d=\"M 51.33 107.539095 \nL 70.86 115.121742 \nL 90.39 120.086216 \nL 109.92 123.793215 \nL 129.45 127.138635 \nL 148.98 128.022973 \n\" style=\"fill:none;stroke:#ff7f0e;stroke-dasharray:5.55,2.4;stroke-dashoffset:0;stroke-width:1.5;\"/>\n   </g>\n   <g id=\"line2d_60\">\n    <path clip-path=\"url(#p0dd1cec4c2)\" d=\"M 35.911579 13.377273 \nL 45.162632 105.78945 \nL 54.413684 107.28721 \nL 63.664737 112.343557 \nL 72.915789 118.482151 \nL 82.166842 115.532951 \nL 91.417895 118.938597 \nL 100.668947 125.121023 \nL 109.92 124.159269 \nL 119.171053 122.712266 \nL 128.422105 125.270338 \nL 137.673158 129.033929 \nL 146.924211 127.98843 \n\" style=\"fill:none;stroke:#1f77b4;stroke-linecap:square;stroke-width:1.5;\"/>\n   </g>\n   <g id=\"line2d_61\">\n    <path clip-path=\"url(#p0dd1cec4c2)\" d=\"M 51.33 107.539095 \nL 70.86 115.121742 \nL 90.39 120.086216 \nL 109.92 123.793215 \nL 129.45 127.138635 \nL 148.98 128.022973 \n\" style=\"fill:none;stroke:#ff7f0e;stroke-dasharray:5.55,2.4;stroke-dashoffset:0;stroke-width:1.5;\"/>\n   </g>\n   <g id=\"line2d_62\">\n    <path clip-path=\"url(#p0dd1cec4c2)\" d=\"M 35.911579 13.377273 \nL 45.162632 105.78945 \nL 54.413684 107.28721 \nL 63.664737 112.343557 \nL 72.915789 118.482151 \nL 82.166842 115.532951 \nL 91.417895 118.938597 \nL 100.668947 125.121023 \nL 109.92 124.159269 \nL 119.171053 122.712266 \nL 128.422105 125.270338 \nL 137.673158 129.033929 \nL 146.924211 127.98843 \nL 156.175263 129.56928 \n\" style=\"fill:none;stroke:#1f77b4;stroke-linecap:square;stroke-width:1.5;\"/>\n   </g>\n   <g id=\"line2d_63\">\n    <path clip-path=\"url(#p0dd1cec4c2)\" d=\"M 51.33 107.539095 \nL 70.86 115.121742 \nL 90.39 120.086216 \nL 109.92 123.793215 \nL 129.45 127.138635 \nL 148.98 128.022973 \n\" style=\"fill:none;stroke:#ff7f0e;stroke-dasharray:5.55,2.4;stroke-dashoffset:0;stroke-width:1.5;\"/>\n   </g>\n   <g id=\"line2d_64\">\n    <path clip-path=\"url(#p0dd1cec4c2)\" d=\"M 35.911579 13.377273 \nL 45.162632 105.78945 \nL 54.413684 107.28721 \nL 63.664737 112.343557 \nL 72.915789 118.482151 \nL 82.166842 115.532951 \nL 91.417895 118.938597 \nL 100.668947 125.121023 \nL 109.92 124.159269 \nL 119.171053 122.712266 \nL 128.422105 125.270338 \nL 137.673158 129.033929 \nL 146.924211 127.98843 \nL 156.175263 129.56928 \n\" style=\"fill:none;stroke:#1f77b4;stroke-linecap:square;stroke-width:1.5;\"/>\n   </g>\n   <g id=\"line2d_65\">\n    <path clip-path=\"url(#p0dd1cec4c2)\" d=\"M 51.33 107.539095 \nL 70.86 115.121742 \nL 90.39 120.086216 \nL 109.92 123.793215 \nL 129.45 127.138635 \nL 148.98 128.022973 \nL 168.51 131.292565 \n\" style=\"fill:none;stroke:#ff7f0e;stroke-dasharray:5.55,2.4;stroke-dashoffset:0;stroke-width:1.5;\"/>\n   </g>\n   <g id=\"line2d_66\">\n    <path clip-path=\"url(#p0dd1cec4c2)\" d=\"M 35.911579 13.377273 \nL 45.162632 105.78945 \nL 54.413684 107.28721 \nL 63.664737 112.343557 \nL 72.915789 118.482151 \nL 82.166842 115.532951 \nL 91.417895 118.938597 \nL 100.668947 125.121023 \nL 109.92 124.159269 \nL 119.171053 122.712266 \nL 128.422105 125.270338 \nL 137.673158 129.033929 \nL 146.924211 127.98843 \nL 156.175263 129.56928 \nL 165.426316 131.859221 \n\" style=\"fill:none;stroke:#1f77b4;stroke-linecap:square;stroke-width:1.5;\"/>\n   </g>\n   <g id=\"line2d_67\">\n    <path clip-path=\"url(#p0dd1cec4c2)\" d=\"M 51.33 107.539095 \nL 70.86 115.121742 \nL 90.39 120.086216 \nL 109.92 123.793215 \nL 129.45 127.138635 \nL 148.98 128.022973 \nL 168.51 131.292565 \n\" style=\"fill:none;stroke:#ff7f0e;stroke-dasharray:5.55,2.4;stroke-dashoffset:0;stroke-width:1.5;\"/>\n   </g>\n   <g id=\"line2d_68\">\n    <path clip-path=\"url(#p0dd1cec4c2)\" d=\"M 35.911579 13.377273 \nL 45.162632 105.78945 \nL 54.413684 107.28721 \nL 63.664737 112.343557 \nL 72.915789 118.482151 \nL 82.166842 115.532951 \nL 91.417895 118.938597 \nL 100.668947 125.121023 \nL 109.92 124.159269 \nL 119.171053 122.712266 \nL 128.422105 125.270338 \nL 137.673158 129.033929 \nL 146.924211 127.98843 \nL 156.175263 129.56928 \nL 165.426316 131.859221 \nL 174.677368 133.40859 \n\" style=\"fill:none;stroke:#1f77b4;stroke-linecap:square;stroke-width:1.5;\"/>\n   </g>\n   <g id=\"line2d_69\">\n    <path clip-path=\"url(#p0dd1cec4c2)\" d=\"M 51.33 107.539095 \nL 70.86 115.121742 \nL 90.39 120.086216 \nL 109.92 123.793215 \nL 129.45 127.138635 \nL 148.98 128.022973 \nL 168.51 131.292565 \n\" style=\"fill:none;stroke:#ff7f0e;stroke-dasharray:5.55,2.4;stroke-dashoffset:0;stroke-width:1.5;\"/>\n   </g>\n   <g id=\"line2d_70\">\n    <path clip-path=\"url(#p0dd1cec4c2)\" d=\"M 35.911579 13.377273 \nL 45.162632 105.78945 \nL 54.413684 107.28721 \nL 63.664737 112.343557 \nL 72.915789 118.482151 \nL 82.166842 115.532951 \nL 91.417895 118.938597 \nL 100.668947 125.121023 \nL 109.92 124.159269 \nL 119.171053 122.712266 \nL 128.422105 125.270338 \nL 137.673158 129.033929 \nL 146.924211 127.98843 \nL 156.175263 129.56928 \nL 165.426316 131.859221 \nL 174.677368 133.40859 \n\" style=\"fill:none;stroke:#1f77b4;stroke-linecap:square;stroke-width:1.5;\"/>\n   </g>\n   <g id=\"line2d_71\">\n    <path clip-path=\"url(#p0dd1cec4c2)\" d=\"M 51.33 107.539095 \nL 70.86 115.121742 \nL 90.39 120.086216 \nL 109.92 123.793215 \nL 129.45 127.138635 \nL 148.98 128.022973 \nL 168.51 131.292565 \nL 188.04 131.224449 \n\" style=\"fill:none;stroke:#ff7f0e;stroke-dasharray:5.55,2.4;stroke-dashoffset:0;stroke-width:1.5;\"/>\n   </g>\n   <g id=\"line2d_72\">\n    <path clip-path=\"url(#p0dd1cec4c2)\" d=\"M 35.911579 13.377273 \nL 45.162632 105.78945 \nL 54.413684 107.28721 \nL 63.664737 112.343557 \nL 72.915789 118.482151 \nL 82.166842 115.532951 \nL 91.417895 118.938597 \nL 100.668947 125.121023 \nL 109.92 124.159269 \nL 119.171053 122.712266 \nL 128.422105 125.270338 \nL 137.673158 129.033929 \nL 146.924211 127.98843 \nL 156.175263 129.56928 \nL 165.426316 131.859221 \nL 174.677368 133.40859 \nL 183.928421 128.719815 \n\" style=\"fill:none;stroke:#1f77b4;stroke-linecap:square;stroke-width:1.5;\"/>\n   </g>\n   <g id=\"line2d_73\">\n    <path clip-path=\"url(#p0dd1cec4c2)\" d=\"M 51.33 107.539095 \nL 70.86 115.121742 \nL 90.39 120.086216 \nL 109.92 123.793215 \nL 129.45 127.138635 \nL 148.98 128.022973 \nL 168.51 131.292565 \nL 188.04 131.224449 \n\" style=\"fill:none;stroke:#ff7f0e;stroke-dasharray:5.55,2.4;stroke-dashoffset:0;stroke-width:1.5;\"/>\n   </g>\n   <g id=\"line2d_74\">\n    <path clip-path=\"url(#p0dd1cec4c2)\" d=\"M 35.911579 13.377273 \nL 45.162632 105.78945 \nL 54.413684 107.28721 \nL 63.664737 112.343557 \nL 72.915789 118.482151 \nL 82.166842 115.532951 \nL 91.417895 118.938597 \nL 100.668947 125.121023 \nL 109.92 124.159269 \nL 119.171053 122.712266 \nL 128.422105 125.270338 \nL 137.673158 129.033929 \nL 146.924211 127.98843 \nL 156.175263 129.56928 \nL 165.426316 131.859221 \nL 174.677368 133.40859 \nL 183.928421 128.719815 \nL 193.179474 133.058069 \n\" style=\"fill:none;stroke:#1f77b4;stroke-linecap:square;stroke-width:1.5;\"/>\n   </g>\n   <g id=\"line2d_75\">\n    <path clip-path=\"url(#p0dd1cec4c2)\" d=\"M 51.33 107.539095 \nL 70.86 115.121742 \nL 90.39 120.086216 \nL 109.92 123.793215 \nL 129.45 127.138635 \nL 148.98 128.022973 \nL 168.51 131.292565 \nL 188.04 131.224449 \n\" style=\"fill:none;stroke:#ff7f0e;stroke-dasharray:5.55,2.4;stroke-dashoffset:0;stroke-width:1.5;\"/>\n   </g>\n   <g id=\"line2d_76\">\n    <path clip-path=\"url(#p0dd1cec4c2)\" d=\"M 35.911579 13.377273 \nL 45.162632 105.78945 \nL 54.413684 107.28721 \nL 63.664737 112.343557 \nL 72.915789 118.482151 \nL 82.166842 115.532951 \nL 91.417895 118.938597 \nL 100.668947 125.121023 \nL 109.92 124.159269 \nL 119.171053 122.712266 \nL 128.422105 125.270338 \nL 137.673158 129.033929 \nL 146.924211 127.98843 \nL 156.175263 129.56928 \nL 165.426316 131.859221 \nL 174.677368 133.40859 \nL 183.928421 128.719815 \nL 193.179474 133.058069 \nL 202.430526 136.650497 \n\" style=\"fill:none;stroke:#1f77b4;stroke-linecap:square;stroke-width:1.5;\"/>\n   </g>\n   <g id=\"line2d_77\">\n    <path clip-path=\"url(#p0dd1cec4c2)\" d=\"M 51.33 107.539095 \nL 70.86 115.121742 \nL 90.39 120.086216 \nL 109.92 123.793215 \nL 129.45 127.138635 \nL 148.98 128.022973 \nL 168.51 131.292565 \nL 188.04 131.224449 \n\" style=\"fill:none;stroke:#ff7f0e;stroke-dasharray:5.55,2.4;stroke-dashoffset:0;stroke-width:1.5;\"/>\n   </g>\n   <g id=\"line2d_78\">\n    <path clip-path=\"url(#p0dd1cec4c2)\" d=\"M 35.911579 13.377273 \nL 45.162632 105.78945 \nL 54.413684 107.28721 \nL 63.664737 112.343557 \nL 72.915789 118.482151 \nL 82.166842 115.532951 \nL 91.417895 118.938597 \nL 100.668947 125.121023 \nL 109.92 124.159269 \nL 119.171053 122.712266 \nL 128.422105 125.270338 \nL 137.673158 129.033929 \nL 146.924211 127.98843 \nL 156.175263 129.56928 \nL 165.426316 131.859221 \nL 174.677368 133.40859 \nL 183.928421 128.719815 \nL 193.179474 133.058069 \nL 202.430526 136.650497 \n\" style=\"fill:none;stroke:#1f77b4;stroke-linecap:square;stroke-width:1.5;\"/>\n   </g>\n   <g id=\"line2d_79\">\n    <path clip-path=\"url(#p0dd1cec4c2)\" d=\"M 51.33 107.539095 \nL 70.86 115.121742 \nL 90.39 120.086216 \nL 109.92 123.793215 \nL 129.45 127.138635 \nL 148.98 128.022973 \nL 168.51 131.292565 \nL 188.04 131.224449 \nL 207.57 134.72195 \n\" style=\"fill:none;stroke:#ff7f0e;stroke-dasharray:5.55,2.4;stroke-dashoffset:0;stroke-width:1.5;\"/>\n   </g>\n   <g id=\"line2d_80\">\n    <path clip-path=\"url(#p0dd1cec4c2)\" d=\"M 35.911579 13.377273 \nL 45.162632 105.78945 \nL 54.413684 107.28721 \nL 63.664737 112.343557 \nL 72.915789 118.482151 \nL 82.166842 115.532951 \nL 91.417895 118.938597 \nL 100.668947 125.121023 \nL 109.92 124.159269 \nL 119.171053 122.712266 \nL 128.422105 125.270338 \nL 137.673158 129.033929 \nL 146.924211 127.98843 \nL 156.175263 129.56928 \nL 165.426316 131.859221 \nL 174.677368 133.40859 \nL 183.928421 128.719815 \nL 193.179474 133.058069 \nL 202.430526 136.650497 \nL 211.681579 136.922727 \n\" style=\"fill:none;stroke:#1f77b4;stroke-linecap:square;stroke-width:1.5;\"/>\n   </g>\n   <g id=\"line2d_81\">\n    <path clip-path=\"url(#p0dd1cec4c2)\" d=\"M 51.33 107.539095 \nL 70.86 115.121742 \nL 90.39 120.086216 \nL 109.92 123.793215 \nL 129.45 127.138635 \nL 148.98 128.022973 \nL 168.51 131.292565 \nL 188.04 131.224449 \nL 207.57 134.72195 \n\" style=\"fill:none;stroke:#ff7f0e;stroke-dasharray:5.55,2.4;stroke-dashoffset:0;stroke-width:1.5;\"/>\n   </g>\n   <g id=\"line2d_82\">\n    <path clip-path=\"url(#p0dd1cec4c2)\" d=\"M 35.911579 13.377273 \nL 45.162632 105.78945 \nL 54.413684 107.28721 \nL 63.664737 112.343557 \nL 72.915789 118.482151 \nL 82.166842 115.532951 \nL 91.417895 118.938597 \nL 100.668947 125.121023 \nL 109.92 124.159269 \nL 119.171053 122.712266 \nL 128.422105 125.270338 \nL 137.673158 129.033929 \nL 146.924211 127.98843 \nL 156.175263 129.56928 \nL 165.426316 131.859221 \nL 174.677368 133.40859 \nL 183.928421 128.719815 \nL 193.179474 133.058069 \nL 202.430526 136.650497 \nL 211.681579 136.922727 \nL 220.932632 136.403827 \n\" style=\"fill:none;stroke:#1f77b4;stroke-linecap:square;stroke-width:1.5;\"/>\n   </g>\n   <g id=\"line2d_83\">\n    <path clip-path=\"url(#p0dd1cec4c2)\" d=\"M 51.33 107.539095 \nL 70.86 115.121742 \nL 90.39 120.086216 \nL 109.92 123.793215 \nL 129.45 127.138635 \nL 148.98 128.022973 \nL 168.51 131.292565 \nL 188.04 131.224449 \nL 207.57 134.72195 \n\" style=\"fill:none;stroke:#ff7f0e;stroke-dasharray:5.55,2.4;stroke-dashoffset:0;stroke-width:1.5;\"/>\n   </g>\n   <g id=\"line2d_84\">\n    <path clip-path=\"url(#p0dd1cec4c2)\" d=\"M 35.911579 13.377273 \nL 45.162632 105.78945 \nL 54.413684 107.28721 \nL 63.664737 112.343557 \nL 72.915789 118.482151 \nL 82.166842 115.532951 \nL 91.417895 118.938597 \nL 100.668947 125.121023 \nL 109.92 124.159269 \nL 119.171053 122.712266 \nL 128.422105 125.270338 \nL 137.673158 129.033929 \nL 146.924211 127.98843 \nL 156.175263 129.56928 \nL 165.426316 131.859221 \nL 174.677368 133.40859 \nL 183.928421 128.719815 \nL 193.179474 133.058069 \nL 202.430526 136.650497 \nL 211.681579 136.922727 \nL 220.932632 136.403827 \n\" style=\"fill:none;stroke:#1f77b4;stroke-linecap:square;stroke-width:1.5;\"/>\n   </g>\n   <g id=\"line2d_85\">\n    <path clip-path=\"url(#p0dd1cec4c2)\" d=\"M 51.33 107.539095 \nL 70.86 115.121742 \nL 90.39 120.086216 \nL 109.92 123.793215 \nL 129.45 127.138635 \nL 148.98 128.022973 \nL 168.51 131.292565 \nL 188.04 131.224449 \nL 207.57 134.72195 \nL 227.1 134.306383 \n\" style=\"fill:none;stroke:#ff7f0e;stroke-dasharray:5.55,2.4;stroke-dashoffset:0;stroke-width:1.5;\"/>\n   </g>\n   <g id=\"patch_3\">\n    <path d=\"M 31.8 143.1 \nL 31.8 7.2 \n\" style=\"fill:none;stroke:#000000;stroke-linecap:square;stroke-linejoin:miter;stroke-width:0.8;\"/>\n   </g>\n   <g id=\"patch_4\">\n    <path d=\"M 227.1 143.1 \nL 227.1 7.2 \n\" style=\"fill:none;stroke:#000000;stroke-linecap:square;stroke-linejoin:miter;stroke-width:0.8;\"/>\n   </g>\n   <g id=\"patch_5\">\n    <path d=\"M 31.8 143.1 \nL 227.1 143.1 \n\" style=\"fill:none;stroke:#000000;stroke-linecap:square;stroke-linejoin:miter;stroke-width:0.8;\"/>\n   </g>\n   <g id=\"patch_6\">\n    <path d=\"M 31.8 7.2 \nL 227.1 7.2 \n\" style=\"fill:none;stroke:#000000;stroke-linecap:square;stroke-linejoin:miter;stroke-width:0.8;\"/>\n   </g>\n   <g id=\"legend_1\">\n    <g id=\"patch_7\">\n     <path d=\"M 140.509375 45.1125 \nL 220.1 45.1125 \nQ 222.1 45.1125 222.1 43.1125 \nL 222.1 14.2 \nQ 222.1 12.2 220.1 12.2 \nL 140.509375 12.2 \nQ 138.509375 12.2 138.509375 14.2 \nL 138.509375 43.1125 \nQ 138.509375 45.1125 140.509375 45.1125 \nz\n\" style=\"fill:#ffffff;opacity:0.8;stroke:#cccccc;stroke-linejoin:miter;\"/>\n    </g>\n    <g id=\"line2d_86\">\n     <path d=\"M 142.509375 20.298437 \nL 162.509375 20.298437 \n\" style=\"fill:none;stroke:#1f77b4;stroke-linecap:square;stroke-width:1.5;\"/>\n    </g>\n    <g id=\"line2d_87\"/>\n    <g id=\"text_10\">\n     <!-- train_loss -->\n     <defs>\n      <path d=\"M 18.3125 70.21875 \nL 18.3125 54.6875 \nL 36.8125 54.6875 \nL 36.8125 47.703125 \nL 18.3125 47.703125 \nL 18.3125 18.015625 \nQ 18.3125 11.328125 20.140625 9.421875 \nQ 21.96875 7.515625 27.59375 7.515625 \nL 36.8125 7.515625 \nL 36.8125 0 \nL 27.59375 0 \nQ 17.1875 0 13.234375 3.875 \nQ 9.28125 7.765625 9.28125 18.015625 \nL 9.28125 47.703125 \nL 2.6875 47.703125 \nL 2.6875 54.6875 \nL 9.28125 54.6875 \nL 9.28125 70.21875 \nz\n\" id=\"DejaVuSans-116\"/>\n      <path d=\"M 41.109375 46.296875 \nQ 39.59375 47.171875 37.8125 47.578125 \nQ 36.03125 48 33.890625 48 \nQ 26.265625 48 22.1875 43.046875 \nQ 18.109375 38.09375 18.109375 28.8125 \nL 18.109375 0 \nL 9.078125 0 \nL 9.078125 54.6875 \nL 18.109375 54.6875 \nL 18.109375 46.1875 \nQ 20.953125 51.171875 25.484375 53.578125 \nQ 30.03125 56 36.53125 56 \nQ 37.453125 56 38.578125 55.875 \nQ 39.703125 55.765625 41.0625 55.515625 \nz\n\" id=\"DejaVuSans-114\"/>\n      <path d=\"M 34.28125 27.484375 \nQ 23.390625 27.484375 19.1875 25 \nQ 14.984375 22.515625 14.984375 16.5 \nQ 14.984375 11.71875 18.140625 8.90625 \nQ 21.296875 6.109375 26.703125 6.109375 \nQ 34.1875 6.109375 38.703125 11.40625 \nQ 43.21875 16.703125 43.21875 25.484375 \nL 43.21875 27.484375 \nz\nM 52.203125 31.203125 \nL 52.203125 0 \nL 43.21875 0 \nL 43.21875 8.296875 \nQ 40.140625 3.328125 35.546875 0.953125 \nQ 30.953125 -1.421875 24.3125 -1.421875 \nQ 15.921875 -1.421875 10.953125 3.296875 \nQ 6 8.015625 6 15.921875 \nQ 6 25.140625 12.171875 29.828125 \nQ 18.359375 34.515625 30.609375 34.515625 \nL 43.21875 34.515625 \nL 43.21875 35.40625 \nQ 43.21875 41.609375 39.140625 45 \nQ 35.0625 48.390625 27.6875 48.390625 \nQ 23 48.390625 18.546875 47.265625 \nQ 14.109375 46.140625 10.015625 43.890625 \nL 10.015625 52.203125 \nQ 14.9375 54.109375 19.578125 55.046875 \nQ 24.21875 56 28.609375 56 \nQ 40.484375 56 46.34375 49.84375 \nQ 52.203125 43.703125 52.203125 31.203125 \nz\n\" id=\"DejaVuSans-97\"/>\n      <path d=\"M 9.421875 54.6875 \nL 18.40625 54.6875 \nL 18.40625 0 \nL 9.421875 0 \nz\nM 9.421875 75.984375 \nL 18.40625 75.984375 \nL 18.40625 64.59375 \nL 9.421875 64.59375 \nz\n\" id=\"DejaVuSans-105\"/>\n      <path d=\"M 54.890625 33.015625 \nL 54.890625 0 \nL 45.90625 0 \nL 45.90625 32.71875 \nQ 45.90625 40.484375 42.875 44.328125 \nQ 39.84375 48.1875 33.796875 48.1875 \nQ 26.515625 48.1875 22.3125 43.546875 \nQ 18.109375 38.921875 18.109375 30.90625 \nL 18.109375 0 \nL 9.078125 0 \nL 9.078125 54.6875 \nL 18.109375 54.6875 \nL 18.109375 46.1875 \nQ 21.34375 51.125 25.703125 53.5625 \nQ 30.078125 56 35.796875 56 \nQ 45.21875 56 50.046875 50.171875 \nQ 54.890625 44.34375 54.890625 33.015625 \nz\n\" id=\"DejaVuSans-110\"/>\n      <path d=\"M 50.984375 -16.609375 \nL 50.984375 -23.578125 \nL -0.984375 -23.578125 \nL -0.984375 -16.609375 \nz\n\" id=\"DejaVuSans-95\"/>\n      <path d=\"M 9.421875 75.984375 \nL 18.40625 75.984375 \nL 18.40625 0 \nL 9.421875 0 \nz\n\" id=\"DejaVuSans-108\"/>\n      <path d=\"M 44.28125 53.078125 \nL 44.28125 44.578125 \nQ 40.484375 46.53125 36.375 47.5 \nQ 32.28125 48.484375 27.875 48.484375 \nQ 21.1875 48.484375 17.84375 46.4375 \nQ 14.5 44.390625 14.5 40.28125 \nQ 14.5 37.15625 16.890625 35.375 \nQ 19.28125 33.59375 26.515625 31.984375 \nL 29.59375 31.296875 \nQ 39.15625 29.25 43.1875 25.515625 \nQ 47.21875 21.78125 47.21875 15.09375 \nQ 47.21875 7.46875 41.1875 3.015625 \nQ 35.15625 -1.421875 24.609375 -1.421875 \nQ 20.21875 -1.421875 15.453125 -0.5625 \nQ 10.6875 0.296875 5.421875 2 \nL 5.421875 11.28125 \nQ 10.40625 8.6875 15.234375 7.390625 \nQ 20.0625 6.109375 24.8125 6.109375 \nQ 31.15625 6.109375 34.5625 8.28125 \nQ 37.984375 10.453125 37.984375 14.40625 \nQ 37.984375 18.0625 35.515625 20.015625 \nQ 33.0625 21.96875 24.703125 23.78125 \nL 21.578125 24.515625 \nQ 13.234375 26.265625 9.515625 29.90625 \nQ 5.8125 33.546875 5.8125 39.890625 \nQ 5.8125 47.609375 11.28125 51.796875 \nQ 16.75 56 26.8125 56 \nQ 31.78125 56 36.171875 55.265625 \nQ 40.578125 54.546875 44.28125 53.078125 \nz\n\" id=\"DejaVuSans-115\"/>\n     </defs>\n     <g transform=\"translate(170.509375 23.798437)scale(0.1 -0.1)\">\n      <use xlink:href=\"#DejaVuSans-116\"/>\n      <use x=\"39.208984\" xlink:href=\"#DejaVuSans-114\"/>\n      <use x=\"80.322266\" xlink:href=\"#DejaVuSans-97\"/>\n      <use x=\"141.601562\" xlink:href=\"#DejaVuSans-105\"/>\n      <use x=\"169.384766\" xlink:href=\"#DejaVuSans-110\"/>\n      <use x=\"232.763672\" xlink:href=\"#DejaVuSans-95\"/>\n      <use x=\"282.763672\" xlink:href=\"#DejaVuSans-108\"/>\n      <use x=\"310.546875\" xlink:href=\"#DejaVuSans-111\"/>\n      <use x=\"371.728516\" xlink:href=\"#DejaVuSans-115\"/>\n      <use x=\"423.828125\" xlink:href=\"#DejaVuSans-115\"/>\n     </g>\n    </g>\n    <g id=\"line2d_88\">\n     <path d=\"M 142.509375 35.254687 \nL 162.509375 35.254687 \n\" style=\"fill:none;stroke:#ff7f0e;stroke-dasharray:5.55,2.4;stroke-dashoffset:0;stroke-width:1.5;\"/>\n    </g>\n    <g id=\"line2d_89\"/>\n    <g id=\"text_11\">\n     <!-- val_loss -->\n     <defs>\n      <path d=\"M 2.984375 54.6875 \nL 12.5 54.6875 \nL 29.59375 8.796875 \nL 46.6875 54.6875 \nL 56.203125 54.6875 \nL 35.6875 0 \nL 23.484375 0 \nz\n\" id=\"DejaVuSans-118\"/>\n     </defs>\n     <g transform=\"translate(170.509375 38.754687)scale(0.1 -0.1)\">\n      <use xlink:href=\"#DejaVuSans-118\"/>\n      <use x=\"59.179688\" xlink:href=\"#DejaVuSans-97\"/>\n      <use x=\"120.458984\" xlink:href=\"#DejaVuSans-108\"/>\n      <use x=\"148.242188\" xlink:href=\"#DejaVuSans-95\"/>\n      <use x=\"198.242188\" xlink:href=\"#DejaVuSans-108\"/>\n      <use x=\"226.025391\" xlink:href=\"#DejaVuSans-111\"/>\n      <use x=\"287.207031\" xlink:href=\"#DejaVuSans-115\"/>\n      <use x=\"339.306641\" xlink:href=\"#DejaVuSans-115\"/>\n     </g>\n    </g>\n   </g>\n  </g>\n </g>\n <defs>\n  <clipPath id=\"p0dd1cec4c2\">\n   <rect height=\"135.9\" width=\"195.3\" x=\"31.8\" y=\"7.2\"/>\n  </clipPath>\n </defs>\n</svg>\n"
          },
          "metadata": {
            "needs_background": "light"
          }
        }
      ]
    },
    {
      "cell_type": "code",
      "source": [
        "preds = [model(tf.constant(data.val.values, dtype=tf.float32))\n",
        "         for model in models]\n",
        "# Taking exponentiation of predictions in the logarithm scale\n",
        "ensemble_preds = tf.reduce_mean(tf.exp(tf.concat(preds, 1)), 1)\n",
        "submission = pd.DataFrame({'Id':data.raw_val.Id,\n",
        "                           'SalePrice':ensemble_preds.numpy()})\n",
        "submission.to_csv('submission.csv', index=False)"
      ],
      "metadata": {
        "id": "xA8Skpp4Mltn"
      },
      "execution_count": null,
      "outputs": []
    }
  ]
}